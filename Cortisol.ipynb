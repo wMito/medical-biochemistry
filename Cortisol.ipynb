{
 "cells": [
  {
   "cell_type": "markdown",
   "id": "e20b1eb2",
   "metadata": {},
   "source": [
    "The data was acquired during laboratory practice as part of 'Medical Biochemistry' course. During this class we measured levels of cortisol from patient's samples using DRG Cortisol Enzyme Immunoassay Kit. "
   ]
  },
  {
   "cell_type": "code",
   "execution_count": 2,
   "id": "0d0e1d15",
   "metadata": {},
   "outputs": [
    {
     "data": {
      "text/html": [
       "<table class=\"dataframe\">\n",
       "<caption>A data.frame: 7 × 2</caption>\n",
       "<thead>\n",
       "\t<tr><th scope=col>stand_conc</th><th scope=col>absorbance</th></tr>\n",
       "\t<tr><th scope=col>&lt;dbl&gt;</th><th scope=col>&lt;dbl&gt;</th></tr>\n",
       "</thead>\n",
       "<tbody>\n",
       "\t<tr><td>  0</td><td>0.8312</td></tr>\n",
       "\t<tr><td> 20</td><td>0.6444</td></tr>\n",
       "\t<tr><td> 50</td><td>0.8677</td></tr>\n",
       "\t<tr><td>100</td><td>0.4553</td></tr>\n",
       "\t<tr><td>200</td><td>0.3400</td></tr>\n",
       "\t<tr><td>400</td><td>0.2347</td></tr>\n",
       "\t<tr><td>800</td><td>0.1780</td></tr>\n",
       "</tbody>\n",
       "</table>\n"
      ],
      "text/latex": [
       "A data.frame: 7 × 2\n",
       "\\begin{tabular}{ll}\n",
       " stand\\_conc & absorbance\\\\\n",
       " <dbl> & <dbl>\\\\\n",
       "\\hline\n",
       "\t   0 & 0.8312\\\\\n",
       "\t  20 & 0.6444\\\\\n",
       "\t  50 & 0.8677\\\\\n",
       "\t 100 & 0.4553\\\\\n",
       "\t 200 & 0.3400\\\\\n",
       "\t 400 & 0.2347\\\\\n",
       "\t 800 & 0.1780\\\\\n",
       "\\end{tabular}\n"
      ],
      "text/markdown": [
       "\n",
       "A data.frame: 7 × 2\n",
       "\n",
       "| stand_conc &lt;dbl&gt; | absorbance &lt;dbl&gt; |\n",
       "|---|---|\n",
       "|   0 | 0.8312 |\n",
       "|  20 | 0.6444 |\n",
       "|  50 | 0.8677 |\n",
       "| 100 | 0.4553 |\n",
       "| 200 | 0.3400 |\n",
       "| 400 | 0.2347 |\n",
       "| 800 | 0.1780 |\n",
       "\n"
      ],
      "text/plain": [
       "  stand_conc absorbance\n",
       "1   0        0.8312    \n",
       "2  20        0.6444    \n",
       "3  50        0.8677    \n",
       "4 100        0.4553    \n",
       "5 200        0.3400    \n",
       "6 400        0.2347    \n",
       "7 800        0.1780    "
      ]
     },
     "metadata": {},
     "output_type": "display_data"
    }
   ],
   "source": [
    "library(tidyverse)\n",
    "library(car)\n",
    "\n",
    "cort_stand_conc <- c(0, 20, 50, 100, 200, 400, 800)\n",
    "cort_stand_meas <- c(0.8312, 0.6444, 0.8677, 0.4553, 0.34, 0.2347, 0.178)\n",
    "(df <- data.frame(stand_conc = cort_stand_conc, absorbance = cort_stand_meas))"
   ]
  },
  {
   "cell_type": "code",
   "execution_count": 3,
   "id": "e7269adc",
   "metadata": {},
   "outputs": [
    {
     "data": {
      "image/png": "[encoded data removed]",
      "text/plain": [
       "plot without title"
      ]
     },
     "metadata": {
      "image/png": {
       "height": 420,
       "width": 420
      }
     },
     "output_type": "display_data"
    }
   ],
   "source": [
    "plot(df)"
   ]
  },
  {
   "cell_type": "markdown",
   "id": "09e2ca81",
   "metadata": {},
   "source": [
    "The data plot suggests that there might be logarithmic scale needed for X-axis."
   ]
  },
  {
   "cell_type": "code",
   "execution_count": 4,
   "id": "c0fc9fb5",
   "metadata": {},
   "outputs": [
    {
     "data": {
      "text/html": [
       "<table class=\"dataframe\">\n",
       "<caption>A data.frame: 6 × 2</caption>\n",
       "<thead>\n",
       "\t<tr><th scope=col>stand_conc</th><th scope=col>absorbance</th></tr>\n",
       "\t<tr><th scope=col>&lt;dbl&gt;</th><th scope=col>&lt;dbl&gt;</th></tr>\n",
       "</thead>\n",
       "<tbody>\n",
       "\t<tr><td>1.30103</td><td>0.6444</td></tr>\n",
       "\t<tr><td>1.69897</td><td>0.8677</td></tr>\n",
       "\t<tr><td>2.00000</td><td>0.4553</td></tr>\n",
       "\t<tr><td>2.30103</td><td>0.3400</td></tr>\n",
       "\t<tr><td>2.60206</td><td>0.2347</td></tr>\n",
       "\t<tr><td>2.90309</td><td>0.1780</td></tr>\n",
       "</tbody>\n",
       "</table>\n"
      ],
      "text/latex": [
       "A data.frame: 6 × 2\n",
       "\\begin{tabular}{ll}\n",
       " stand\\_conc & absorbance\\\\\n",
       " <dbl> & <dbl>\\\\\n",
       "\\hline\n",
       "\t 1.30103 & 0.6444\\\\\n",
       "\t 1.69897 & 0.8677\\\\\n",
       "\t 2.00000 & 0.4553\\\\\n",
       "\t 2.30103 & 0.3400\\\\\n",
       "\t 2.60206 & 0.2347\\\\\n",
       "\t 2.90309 & 0.1780\\\\\n",
       "\\end{tabular}\n"
      ],
      "text/markdown": [
       "\n",
       "A data.frame: 6 × 2\n",
       "\n",
       "| stand_conc &lt;dbl&gt; | absorbance &lt;dbl&gt; |\n",
       "|---|---|\n",
       "| 1.30103 | 0.6444 |\n",
       "| 1.69897 | 0.8677 |\n",
       "| 2.00000 | 0.4553 |\n",
       "| 2.30103 | 0.3400 |\n",
       "| 2.60206 | 0.2347 |\n",
       "| 2.90309 | 0.1780 |\n",
       "\n"
      ],
      "text/plain": [
       "  stand_conc absorbance\n",
       "1 1.30103    0.6444    \n",
       "2 1.69897    0.8677    \n",
       "3 2.00000    0.4553    \n",
       "4 2.30103    0.3400    \n",
       "5 2.60206    0.2347    \n",
       "6 2.90309    0.1780    "
      ]
     },
     "metadata": {},
     "output_type": "display_data"
    }
   ],
   "source": [
    "df_log <- df[-1,]\n",
    "df_log$stand_conc <- log10(df$stand_conc[-1])\n",
    "rownames(df_log) <- NULL\n",
    "df_log"
   ]
  },
  {
   "cell_type": "code",
   "execution_count": 5,
   "id": "2293d5d8",
   "metadata": {},
   "outputs": [
    {
     "data": {
      "image/png": "[encoded data removed]",
      "text/plain": [
       "plot without title"
      ]
     },
     "metadata": {
      "image/png": {
       "height": 420,
       "width": 420
      }
     },
     "output_type": "display_data"
    }
   ],
   "source": [
    "plot(df_log)"
   ]
  },
  {
   "cell_type": "markdown",
   "id": "72578c02",
   "metadata": {},
   "source": [
    "It looks better but it seems like the second point might be an outlier if we did linear regression. I checked it using Bonferroni outlier test"
   ]
  },
  {
   "cell_type": "code",
   "execution_count": 6,
   "id": "602a8be7",
   "metadata": {},
   "outputs": [
    {
     "data": {
      "text/plain": [
       "  rstudent unadjusted p-value Bonferroni p\n",
       "2 15.88752         0.00054218    0.0032531"
      ]
     },
     "metadata": {},
     "output_type": "display_data"
    }
   ],
   "source": [
    "fit <- lm(absorbance ~ stand_conc, data = df_log)\n",
    "outlierTest(fit)"
   ]
  },
  {
   "cell_type": "markdown",
   "id": "5507b155",
   "metadata": {},
   "source": [
    "The second observation has indeed high probability to be an outlier. I procedeed without using this point in linear regression and highliting it on plot as a red dot. "
   ]
  },
  {
   "cell_type": "code",
   "execution_count": 7,
   "id": "3dc82fbc",
   "metadata": {},
   "outputs": [
    {
     "data": {
      "text/html": [
       "<span style=white-space:pre-wrap>'-0.3017 x + 1.041 , R2 =  0.99'</span>"
      ],
      "text/latex": [
       "'-0.3017 x + 1.041 , R2 =  0.99'"
      ],
      "text/markdown": [
       "<span style=white-space:pre-wrap>'-0.3017 x + 1.041 , R2 =  0.99'</span>"
      ],
      "text/plain": [
       "[1] \"-0.3017 x + 1.041 , R2 =  0.99\""
      ]
     },
     "metadata": {},
     "output_type": "display_data"
    },
    {
     "data": {
      "image/png": "[encoded data removed]",
      "text/plain": [
       "plot without title"
      ]
     },
     "metadata": {
      "image/png": {
       "height": 420,
       "width": 420
      }
     },
     "output_type": "display_data"
    }
   ],
   "source": [
    "fit <- lm(absorbance ~ stand_conc, data = df_log, subset = (absorbance < 0.8))\n",
    "\n",
    "fit_values <- list(a = format(unname(coef(fit)[2]), digits = 4),\n",
    "    b = format(unname(coef(fit)[1]), digits = 4),\n",
    "    r = format(summary(fit)$r.squared, digits = 2)\n",
    ")\n",
    "\n",
    "fit_label <- paste(fit_values$a, 'x +', fit_values$b, ', R2 = ', fit_values$r)\n",
    "fit_label\n",
    "ggplot(df_log, aes(stand_conc, absorbance)) +\n",
    "    geom_point(size = 4) +\n",
    "    geom_abline(slope = coef(fit)[[\"stand_conc\"]], intercept = coef(fit)[[\"(Intercept)\"]])+\n",
    "    geom_text(aes(x = 2.5, y = 0.7, label = fit_label), size = 5) +\n",
    "    geom_point(data = df_log[2,], aes(stand_conc, absorbance, color = \"red\", size = 4)) +\n",
    "    xlab('Log standard concentration [log(ng/ml)]') +\n",
    "    ylab('Absorbance 450 nm') +\n",
    "    ggtitle('The standard curve for cortisol') +\n",
    "    theme_light() +\n",
    "    theme(legend.position = \"none\", axis.title = element_text(size=17), plot.title = element_text(hjust = 0.5, size = 20)) \n"
   ]
  },
  {
   "cell_type": "code",
   "execution_count": 8,
   "id": "b4ce2924",
   "metadata": {},
   "outputs": [
    {
     "data": {
      "text/html": [
       "'Cortisol concentration in patient\\'s sample is: 142.06 ng/ml'"
      ],
      "text/latex": [
       "'Cortisol concentration in patient\\textbackslash{}'s sample is: 142.06 ng/ml'"
      ],
      "text/markdown": [
       "'Cortisol concentration in patient\\'s sample is: 142.06 ng/ml'"
      ],
      "text/plain": [
       "[1] \"Cortisol concentration in patient's sample is: 142.06 ng/ml\""
      ]
     },
     "metadata": {},
     "output_type": "display_data"
    }
   ],
   "source": [
    "#absorbance of patient's sample\n",
    "sample_abs <- 0.3916\n",
    "sample_conc <- 10^((sample_abs - as.numeric(fit_values$b))/as.numeric(fit_values$a))\n",
    "paste(\"Cortisol concentration in patient's sample is:\", format(sample_conc, digits = 5), \"ng/ml\")"
   ]
  }
 ],
 "metadata": {
  "kernelspec": {
   "display_name": "R",
   "language": "R",
   "name": "ir"
  },
  "language_info": {
   "codemirror_mode": "r",
   "file_extension": ".r",
   "mimetype": "text/x-r-source",
   "name": "R",
   "pygments_lexer": "r",
   "version": "3.6.3"
  }
 },
 "nbformat": 4,
 "nbformat_minor": 5
}
